{
  "cells": [
    {
      "cell_type": "markdown",
      "metadata": {
        "id": "P-PVsZeWjCiw"
      },
      "source": [
        "### **DeepLOB-Attention**"
      ]
    },
    {
      "cell_type": "code",
      "execution_count": null,
      "metadata": {
        "id": "AVPONVeVw0nh"
      },
      "outputs": [],
      "source": [
        "# load packages\n",
        "\n",
        "import numpy as np\n",
        "from datetime import datetime\n",
        "from tqdm import tqdm \n",
        "from sklearn.metrics import accuracy_score, classification_report, confusion_matrix, ConfusionMatrixDisplay\n",
        "import torch\n",
        "from torch.utils import data\n",
        "import torch.nn as nn\n",
        "import torch.optim as optim\n",
        "import tensorflow as tf\n",
        "from tensorflow import keras\n",
        "\n",
        "device = torch.device(\"cuda:0\" if torch.cuda.is_available() else \"cpu\")"
      ]
    },
    {
      "cell_type": "markdown",
      "metadata": {
        "id": "aNdy1u5zjMaw"
      },
      "source": [
        "### **Data**\n",
        "The dataset in the folder Dataset is the FI-2010 dataset zipped and normalized.\n",
        "\n",
        "As in the original paper I used the firs 7 days to train and to validate (80% / 20%), and the rest 3 days to do the the testing."
      ]
    },
    {
      "cell_type": "code",
      "execution_count": null,
      "metadata": {
        "id": "ls5u0jngxkjl"
      },
      "outputs": [],
      "source": [
        "# please change the data_path to your local path and unzip the file\n",
        "\n",
        "dec_data = np.loadtxt('/published/BenchmarkDatasets/BenchmarkDatasets/NoAuction/1.NoAuction_Zscore/NoAuction_Zscore_Training/Train_Dst_NoAuction_ZScore_CF_7.txt')\n",
        "dec_train = dec_data[:, :int(dec_data.shape[1] * 0.8)]\n",
        "dec_val = dec_data[:, int(dec_data.shape[1] * 0.8):]\n",
        "\n",
        "dec_test1 = np.loadtxt('/published/BenchmarkDatasets/BenchmarkDatasets/NoAuction/1.NoAuction_Zscore/NoAuction_Zscore_Testing/Test_Dst_NoAuction_ZScore_CF_7.txt')\n",
        "dec_test2 = np.loadtxt('/published/BenchmarkDatasets/BenchmarkDatasets/NoAuction/1.NoAuction_Zscore/NoAuction_Zscore_Testing/Test_Dst_NoAuction_ZScore_CF_8.txt')\n",
        "dec_test3 = np.loadtxt('/published/BenchmarkDatasets/BenchmarkDatasets/NoAuction/1.NoAuction_Zscore/NoAuction_Zscore_Testing/Test_Dst_NoAuction_ZScore_CF_9.txt')\n",
        "dec_test = np.hstack((dec_test1, dec_test2, dec_test3))\n",
        "\n",
        "horizon = 5        \n",
        "\n",
        "y_train = dec_train[-horizon:, :].T\n",
        "y_val = dec_val[-horizon:, :].T\n",
        "y_test = dec_test[-horizon:, :].T\n",
        "\n",
        "y_train = y_train[49:] - 1\n",
        "y_val = y_val[49:] - 1\n",
        "y_test = y_test[49:] - 1 \n",
        "\n",
        "dec_train = dec_train[:40, :].T\n",
        "dec_val = dec_val[:40, :].T\n",
        "dec_test = dec_test[:40, :].T"
      ]
    },
    {
      "cell_type": "code",
      "source": [
        "def get_label(data):\n",
        "  \n",
        "    all_label = []\n",
        "    \n",
        "    for i in range(data.shape[1]):\n",
        "        one_label = data[:, i]\n",
        "        one_label = keras.utils.to_categorical(one_label, 3)\n",
        "        one_label = one_label.reshape(len(one_label), 1, 3)\n",
        "        all_label.append(one_label)\n",
        "\n",
        "    return np.hstack(all_label)\n",
        "\n",
        "\n",
        "class Dataset(data.Dataset):\n",
        "    \"\"\"Characterizes a dataset for PyTorch\"\"\"\n",
        "    def __init__(self, x, y, decoder_input ,num_classes, dim):\n",
        "        \"\"\"Initialization\"\"\" \n",
        "        self.num_classes = num_classes\n",
        "        self.dim = dim\n",
        "        self.x = x   \n",
        "        self.y = get_label(y)\n",
        "        self.decoder_input = decoder_input\n",
        "        self.length = x.shape[0] - T -self.dim + 1\n",
        "        print(self.y.shape)\n",
        "\n",
        "        x = torch.from_numpy(x)\n",
        "        self.x = torch.unsqueeze(x, 1)\n",
        "        self.y = torch.from_numpy(self.y).float()\n",
        "\n",
        "    def __len__(self):\n",
        "        \"\"\"Denotes the total number of samples\"\"\"\n",
        "        return self.length\n",
        "\n",
        "    def __getitem__(self, i):\n",
        "        input = self.x[i:i+self.dim, :]\n",
        "        input = input.permute(1, 0, 2)\n",
        "        \n",
        "        return input, self.y[i], self.decoder_input[i]"
      ],
      "metadata": {
        "id": "gupiuF9Y5SWq"
      },
      "execution_count": null,
      "outputs": []
    },
    {
      "cell_type": "code",
      "execution_count": null,
      "metadata": {
        "colab": {
          "base_uri": "https://localhost:8080/"
        },
        "id": "7ndByE-Ajmq8",
        "outputId": "e52eba18-a94a-4e5f-9eb4-9d52915a736a"
      },
      "outputs": [
        {
          "output_type": "stream",
          "name": "stdout",
          "text": [
            "(50901, 5, 3)\n",
            "(139538, 5, 3)\n",
            "(203751, 5, 3)\n"
          ]
        }
      ],
      "source": [
        "#Hyperparameters\n",
        "\n",
        "batch_size = 32\n",
        "epochs = 50\n",
        "T = 10      \n",
        "num_classes = 3\n",
        "dim = 50\n",
        "\n",
        "decoder_input_train = torch.zeros(dec_train.shape[0] - dim + 1, 1, 3)\n",
        "decoder_input_train[:, 0, 0] = 1\n",
        "\n",
        "decoder_input_val = torch.zeros(dec_val.shape[0] - dim + 1, 1, 3)\n",
        "decoder_input_val[:, 0, 0] = 1\n",
        "\n",
        "decoder_input_test = torch.zeros(dec_test.shape[0] - dim + 1, 1, 3)\n",
        "decoder_input_test[:, 0, 0] = 1\n",
        "\n",
        "dataset_val = Dataset(dec_val, y_val, decoder_input_val, num_classes, dim)\n",
        "dataset_test = Dataset(dec_test, y_test, decoder_input_test, num_classes, dim)\n",
        "dataset_train = Dataset(dec_train, y_train, decoder_input_train, num_classes, dim)\n",
        "\n",
        "train_loader = torch.utils.data.DataLoader(dataset=dataset_train, batch_size=batch_size, shuffle=True)\n",
        "val_loader = torch.utils.data.DataLoader(dataset=dataset_val, batch_size=batch_size, shuffle=False)\n",
        "test_loader = torch.utils.data.DataLoader(dataset=dataset_test, batch_size=batch_size, shuffle=False)"
      ]
    },
    {
      "cell_type": "markdown",
      "metadata": {
        "id": "DEIIi2NwjtgC"
      },
      "source": [
        "### **Model Architecture**\n",
        "The Architecture is described in the paper"
      ]
    },
    {
      "cell_type": "code",
      "execution_count": null,
      "metadata": {
        "id": "JlV2-6xLcuL5"
      },
      "outputs": [],
      "source": [
        "class DeepLOB_Attention(nn.Module):\n",
        "  def __init__(self):\n",
        "    super().__init__()\n",
        "\n",
        "    # convolution blocks\n",
        "    self.conv1 = nn.Sequential(\n",
        "        nn.Conv2d(in_channels=1, out_channels=32, kernel_size=(1,2), stride=(1,2)),\n",
        "        nn.LeakyReLU(negative_slope=0.01),\n",
        "        nn.Conv2d(in_channels=32, out_channels=32, kernel_size=(4,1), padding='same'),\n",
        "        nn.LeakyReLU(negative_slope=0.01),\n",
        "        nn.Conv2d(in_channels=32, out_channels=32, kernel_size=(4,1), padding='same'),\n",
        "        nn.LeakyReLU(negative_slope=0.01),\n",
        "    )\n",
        "    self.conv2 = nn.Sequential(\n",
        "        nn.Conv2d(in_channels=32, out_channels=32, kernel_size=(1,2), stride=(1,2)),\n",
        "        nn.LeakyReLU(negative_slope=0.01),\n",
        "        nn.Conv2d(in_channels=32, out_channels=32, kernel_size=(4,1), padding='same'),\n",
        "        nn.LeakyReLU(negative_slope=0.01),\n",
        "        nn.Conv2d(in_channels=32, out_channels=32, kernel_size=(4,1), padding='same'),\n",
        "        nn.LeakyReLU(negative_slope=0.01),\n",
        "    )\n",
        "    self.conv3 = nn.Sequential(\n",
        "        nn.Conv2d(in_channels=32, out_channels=32, kernel_size=(1,10)),\n",
        "        nn.LeakyReLU(negative_slope=0.01),\n",
        "        nn.Conv2d(in_channels=32, out_channels=32, kernel_size=(4,1), padding='same'),\n",
        "        nn.LeakyReLU(negative_slope=0.01),\n",
        "        nn.Conv2d(in_channels=32, out_channels=32, kernel_size=(4,1), padding='same'),\n",
        "        nn.LeakyReLU(negative_slope=0.01),\n",
        "    )\n",
        "    \n",
        "    # inception moduels\n",
        "    self.inp1 = nn.Sequential(\n",
        "        nn.Conv2d(in_channels=32, out_channels=64, kernel_size=(1,1), padding='same'),\n",
        "        nn.LeakyReLU(negative_slope=0.01),\n",
        "        nn.Conv2d(in_channels=64, out_channels=64, kernel_size=(3,1), padding='same'),\n",
        "        nn.LeakyReLU(negative_slope=0.01),\n",
        "    )\n",
        "    self.inp2 = nn.Sequential(\n",
        "        nn.Conv2d(in_channels=32, out_channels=64, kernel_size=(1,1), padding='same'),\n",
        "        nn.LeakyReLU(negative_slope=0.01),\n",
        "        nn.Conv2d(in_channels=64, out_channels=64, kernel_size=(5,1), padding='same'),\n",
        "        nn.LeakyReLU(negative_slope=0.01),\n",
        "    )\n",
        "    self.inp3 = nn.Sequential(\n",
        "        nn.MaxPool2d((3, 1), stride=(1, 1), padding=(1, 0)),\n",
        "        nn.Conv2d(in_channels=32, out_channels=64, kernel_size=(1,1), padding='same'),\n",
        "        nn.LeakyReLU(negative_slope=0.01),\n",
        "    )\n",
        "    \n",
        "    # lstm layers\n",
        "    self.lstm = nn.LSTM(input_size=192, hidden_size=64, num_layers=1, batch_first=True)\n",
        "    \n",
        "    self.decoder_lstm = nn.LSTM(input_size=67, hidden_size=64, num_layers=1, batch_first=True)\n",
        "    self.fc1 = nn.Linear(128, 3)\n",
        "    self.BN = nn.BatchNorm1d(1, momentum=0.6)\n",
        "\n",
        "  def forward(self, x, decoder_inputs):  \n",
        "\n",
        "    h0 = torch.zeros(1, x.size(0), 64).to(device)\n",
        "    c0 = torch.zeros(1, x.size(0), 64).to(device)\n",
        "    \n",
        "    x = self.conv1(x)\n",
        "    \n",
        "    x = self.conv2(x)\n",
        "\n",
        "    x = self.conv3(x)\n",
        "\n",
        "    x_inp1 = self.inp1(x)\n",
        "    x_inp2 = self.inp2(x)\n",
        "    x_inp3 = self.inp3(x) \n",
        "\n",
        "    x = torch.cat((x_inp1, x_inp2, x_inp3), dim=1)\n",
        "   \n",
        "    x = x.permute(0, 2, 1, 3)\n",
        "    \n",
        "    x = torch.reshape(x, (-1, x.shape[1], x.shape[2]))\n",
        "    \n",
        "    encoder_outputs, (h0, c0) = self.lstm(x, (h0, c0))\n",
        "       \n",
        "    states = (h0, c0)\n",
        "     \n",
        "    encoder_state_h = h0.permute(1, 0, 2)\n",
        "    \n",
        "    inputs = torch.concatenate([decoder_inputs, encoder_state_h], axis=2)\n",
        "\n",
        "    all_outputs = torch.zeros(5, x.shape[0], 3).to(device)\n",
        "\n",
        "    #we iterate for every horizon (10, 20, 30, 50, 100)\n",
        "    for i in range(5):\n",
        "\n",
        "      #we pass in input to the decoder the context vector, the last decoder's output and the last decoder's hidden state \n",
        "      output, (state_h, state_c) = self.decoder_lstm(inputs, states)\n",
        "      \n",
        "      #computing the attention for the next time step\n",
        "      attention = torch.bmm(output, encoder_outputs.permute(0, 2, 1))\n",
        "      attention = torch.softmax(attention, dim=2)\n",
        "\n",
        "      #computing the context vector \n",
        "      c_v = torch.bmm(attention, encoder_outputs)\n",
        "      c_v = self.BN(c_v)\n",
        "\n",
        "      #creating the input to compute the distribution for the output (3)\n",
        "      last_inputs = torch.concatenate([c_v, output],  axis=2)\n",
        "     \n",
        "      #computing the distribution for the output with the context vector (encoder_outputs) and the decoder's output\n",
        "      output = self.fc1(last_inputs)\n",
        "      output = torch.softmax(output, dim=2)\n",
        "\n",
        "      all_outputs[i] = torch.squeeze(output)\n",
        "      inputs = torch.concatenate([output, c_v], axis=2)\n",
        "      states = [state_h, state_c]\n",
        "    \n",
        "    all_outputs = torch.permute(all_outputs, (1, 2, 0))\n",
        "    return all_outputs"
      ]
    },
    {
      "cell_type": "markdown",
      "metadata": {
        "id": "bejZgDmCkkHi"
      },
      "source": [
        "### **Model Training**"
      ]
    },
    {
      "cell_type": "code",
      "execution_count": null,
      "metadata": {
        "id": "s_u5esKfTT-S"
      },
      "outputs": [],
      "source": [
        "model = DeepLOB_Attention()\n",
        "model.to(device)\n",
        "lr = 0.001\n",
        "criterion = nn.CrossEntropyLoss()\n",
        "\n",
        "optimizer = torch.optim.Adam(model.parameters(), lr, eps=1e-07)\n",
        "\n",
        "def batch_gd(model, criterion, optimizer, epochs):\n",
        "    \n",
        "    train_losses = np.zeros(epochs)\n",
        "    test_losses = np.zeros(epochs)\n",
        "    best_test_loss = np.inf\n",
        "    best_test_epoch = 0\n",
        "    i = 0\n",
        "    cont = 0\n",
        "    for it in tqdm(range(epochs)):\n",
        "        \n",
        "        model.train()\n",
        "        t0 = datetime.now()\n",
        "        train_loss = []\n",
        "        for inputs, targets, decoder_inputs in train_loader:\n",
        "            # move data to GPU\n",
        "            targets = torch.permute(targets, (0, 2, 1))\n",
        "            inputs, targets = inputs.to(device, dtype=torch.float), targets.to(device)\n",
        "            decoder_inputs = decoder_inputs.to(device)\n",
        "\n",
        "            # zero the parameter gradients\n",
        "            optimizer.zero_grad()\n",
        "\n",
        "            # Forward pass\n",
        "            outputs = model(inputs, decoder_inputs)\n",
        "            loss = criterion(outputs, targets)\n",
        "\n",
        "            # Backward and optimize\n",
        "            loss.backward()\n",
        "            optimizer.step()\n",
        "            train_loss.append(loss.item())\n",
        "\n",
        "        # Get train loss and test loss\n",
        "        train_loss = np.mean(train_loss)\n",
        "    \n",
        "        model.eval()\n",
        "        test_loss = []\n",
        "        for inputs, targets, decoder_inputs in val_loader:\n",
        "            targets = torch.permute(targets, (0, 2, 1))\n",
        "            inputs, targets = inputs.to(device, dtype=torch.float), targets.to(device)    \n",
        "            decoder_inputs = decoder_inputs.to(device)  \n",
        "            outputs = model(inputs, decoder_inputs)\n",
        "            loss = criterion(outputs, targets)\n",
        "            test_loss.append(loss.item())\n",
        "        test_loss = np.mean(test_loss)\n",
        "\n",
        "        # Save losses\n",
        "        train_losses[it] = train_loss\n",
        "        test_losses[it] = test_loss\n",
        "\n",
        "        #We save the best model\n",
        "        if test_loss < best_test_loss:\n",
        "            torch.save(model, '/best_model_Attention')\n",
        "            best_test_loss = test_loss\n",
        "            best_test_epoch = it\n",
        "            print('model saved')\n",
        "\n",
        "        dt = datetime.now() - t0\n",
        "        print(f'Epoch {it+1}/{epochs}, Train Loss: {train_loss:.4f}, \\\n",
        "          Validation Loss: {test_loss:.4f}, Duration: {dt}, Best Val Epoch: {best_test_epoch}')\n",
        "        \n",
        "    return train_losses, test_losses"
      ]
    },
    {
      "cell_type": "code",
      "execution_count": null,
      "metadata": {
        "id": "x9vq-ZAzTb6K"
      },
      "outputs": [],
      "source": [
        "print(\"------- List Hyper Parameters -------\")\n",
        "print(\"epochs   ->   \" + str(epochs))\n",
        "print(\"batch size   ->    \" + str(batch_size))\n",
        "print(\"Optimizer   ->    \" + str(optimizer))\n",
        "\n",
        "train_losses, val_losses = batch_gd(model, criterion, optimizer, epochs)\n",
        "\n",
        "plt.figure(figsize=(15,6))\n",
        "plt.plot(train_losses, label='train loss')\n",
        "plt.plot(val_losses, label='validation loss')\n",
        "plt.legend()"
      ]
    },
    {
      "cell_type": "markdown",
      "metadata": {
        "id": "F7CF2CwUkn4G"
      },
      "source": [
        "### **Model Testing**"
      ]
    },
    {
      "cell_type": "code",
      "execution_count": null,
      "metadata": {
        "id": "TFg5d6CzTgWS"
      },
      "outputs": [],
      "source": [
        "model = torch.load('/best_model_Attention')\n",
        "\n",
        "n_correct = 0.\n",
        "n_total = 0.\n",
        "all_targets = [[], [], [], [], []]\n",
        "all_predictions = [[], [], [], [], []]\n",
        "cont = 0\n",
        "for inputs, targets, decoder_inputs in test_loader:\n",
        "    # Move to GPU\n",
        "    targets = torch.permute(targets, (0, 2, 1))\n",
        "    inputs, targets = inputs.to(device, dtype=torch.float), targets.to(device)    \n",
        "    decoder_inputs = decoder_inputs.to(device)\n",
        "    cont += 1\n",
        "\n",
        "    # Forward pass\n",
        "    outputs = model(inputs, decoder_inputs)\n",
        "\n",
        "    #Get prediction\n",
        "    _, predictions = torch.max(outputs, 1)\n",
        "    _, targets = torch.max(targets, 1)\n",
        "    for i in range(5):\n",
        "      prediction = predictions[:, i]\n",
        "      target = targets[:, i]\n",
        "\n",
        "      if (cont == 1):\n",
        "        all_targets[i] = target.cpu().numpy()\n",
        "        all_predictions[i] = prediction.cpu().numpy()\n",
        "        \n",
        "      else:\n",
        "        all_targets[i] = np.concatenate((all_targets[i], target.cpu().numpy()))\n",
        "        all_predictions[i] = np.concatenate((all_predictions[i], prediction.cpu().numpy()))"
      ]
    },
    {
      "cell_type": "code",
      "execution_count": null,
      "metadata": {
        "id": "0oOu5lwf6zw0"
      },
      "outputs": [],
      "source": [
        "from sklearn.metrics import accuracy_score, classification_report, confusion_matrix, ConfusionMatrixDisplay\n",
        "\n",
        "for i in range(5):\n",
        "  print(classification_report(all_targets[i], all_predictions[i], digits=4))\n",
        "  c = confusion_matrix(all_targets[i], all_predictions[i], normalize=\"true\")\n",
        "  disp = ConfusionMatrixDisplay(c)\n",
        "  disp.plot()\n",
        "  plt.show()"
      ]
    }
  ],
  "metadata": {
    "accelerator": "GPU",
    "colab": {
      "provenance": []
    },
    "gpuClass": "premium",
    "kernelspec": {
      "display_name": "Python 3",
      "name": "python3"
    },
    "language_info": {
      "name": "python"
    }
  },
  "nbformat": 4,
  "nbformat_minor": 0
}
