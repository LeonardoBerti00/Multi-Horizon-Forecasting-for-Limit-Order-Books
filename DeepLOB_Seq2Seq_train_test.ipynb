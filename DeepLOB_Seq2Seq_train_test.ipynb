{
  "cells": [
    {
      "cell_type": "markdown",
      "metadata": {
        "id": "P-PVsZeWjCiw"
      },
      "source": [
        "### **DeepLOB-Seq2Seq**"
      ]
    },
    {
      "cell_type": "code",
      "execution_count": null,
      "metadata": {
        "id": "AVPONVeVw0nh"
      },
      "outputs": [],
      "source": [
        "# load packages\n",
        "\n",
        "import numpy as np\n",
        "from datetime import datetime\n",
        "from tqdm import tqdm \n",
        "from sklearn.metrics import accuracy_score, classification_report, confusion_matrix, ConfusionMatrixDisplay\n",
        "import torch\n",
        "from torch.utils import data\n",
        "import torch.nn as nn\n",
        "import torch.optim as optim\n",
        "import tensorflow as tf\n",
        "from tensorflow import keras\n",
        "\n",
        "device = torch.device(\"cuda:0\" if torch.cuda.is_available() else \"cpu\")"
      ]
    },
    {
      "cell_type": "markdown",
      "metadata": {
        "id": "aNdy1u5zjMaw"
      },
      "source": [
        "### **Data**\n",
        "The dataset in the folder Dataset is the FI-2010 dataset zipped and normalized.\n",
        "\n",
        "As in the original paper I used the firs 7 days to train and to validate (80% / 20%), and the rest 3 days to do the the testing."
      ]
    },
    {
      "cell_type": "code",
      "execution_count": null,
      "metadata": {
        "id": "ls5u0jngxkjl"
      },
      "outputs": [],
      "source": [
        "# please change the data_path to your local path and unzip the file\n",
        "\n",
        "dec_data = np.loadtxt('/published/BenchmarkDatasets/BenchmarkDatasets/NoAuction/1.NoAuction_Zscore/NoAuction_Zscore_Training/Train_Dst_NoAuction_ZScore_CF_7.txt')\n",
        "dec_train = dec_data[:, :int(dec_data.shape[1] * 0.8)]\n",
        "dec_val = dec_data[:, int(dec_data.shape[1] * 0.8):]\n",
        "\n",
        "dec_test1 = np.loadtxt('/published/BenchmarkDatasets/BenchmarkDatasets/NoAuction/1.NoAuction_Zscore/NoAuction_Zscore_Testing/Test_Dst_NoAuction_ZScore_CF_7.txt')\n",
        "dec_test2 = np.loadtxt('/published/BenchmarkDatasets/BenchmarkDatasets/NoAuction/1.NoAuction_Zscore/NoAuction_Zscore_Testing/Test_Dst_NoAuction_ZScore_CF_8.txt')\n",
        "dec_test3 = np.loadtxt('/published/BenchmarkDatasets/BenchmarkDatasets/NoAuction/1.NoAuction_Zscore/NoAuction_Zscore_Testing/Test_Dst_NoAuction_ZScore_CF_9.txt')\n",
        "dec_test = np.hstack((dec_test1, dec_test2, dec_test3))\n",
        "\n",
        "horizon = 5        \n",
        "\n",
        "y_train = dec_train[-horizon:, :].T\n",
        "y_val = dec_val[-horizon:, :].T\n",
        "y_test = dec_test[-horizon:, :].T\n",
        "\n",
        "y_train = y_train[49:] - 1\n",
        "y_val = y_val[49:] - 1\n",
        "y_test = y_test[49:] - 1 \n",
        "\n",
        "dec_train = dec_train[:40, :].T\n",
        "dec_val = dec_val[:40, :].T\n",
        "dec_test = dec_test[:40, :].T"
      ]
    },
    {
      "cell_type": "code",
      "source": [
        "def get_label(data):\n",
        "  \n",
        "    all_label = []\n",
        "    \n",
        "    for i in range(data.shape[1]):\n",
        "        one_label = data[:, i]\n",
        "        one_label = keras.utils.to_categorical(one_label, 3)\n",
        "        one_label = one_label.reshape(len(one_label), 1, 3)\n",
        "        all_label.append(one_label)\n",
        "\n",
        "    return np.hstack(all_label)\n",
        "\n",
        "\n",
        "class Dataset(data.Dataset):\n",
        "    \"\"\"Characterizes a dataset for PyTorch\"\"\"\n",
        "    def __init__(self, x, y, decoder_input ,num_classes, dim):\n",
        "        \"\"\"Initialization\"\"\" \n",
        "        self.num_classes = num_classes\n",
        "        self.dim = dim\n",
        "        self.x = x   \n",
        "        self.y = get_label(y)\n",
        "        self.decoder_input = decoder_input\n",
        "        self.length = x.shape[0] - T -self.dim + 1\n",
        "        print(self.y.shape)\n",
        "\n",
        "        x = torch.from_numpy(x)\n",
        "        self.x = torch.unsqueeze(x, 1)\n",
        "        self.y = torch.from_numpy(self.y).float()\n",
        "\n",
        "    def __len__(self):\n",
        "        \"\"\"Denotes the total number of samples\"\"\"\n",
        "        return self.length\n",
        "\n",
        "    def __getitem__(self, i):\n",
        "        input = self.x[i:i+self.dim, :]\n",
        "        input = input.permute(1, 0, 2)\n",
        "        \n",
        "        return input, self.y[i], self.decoder_input[i]"
      ],
      "metadata": {
        "id": "gupiuF9Y5SWq"
      },
      "execution_count": null,
      "outputs": []
    },
    {
      "cell_type": "code",
      "execution_count": null,
      "metadata": {
        "colab": {
          "base_uri": "https://localhost:8080/"
        },
        "id": "7ndByE-Ajmq8",
        "outputId": "e52eba18-a94a-4e5f-9eb4-9d52915a736a"
      },
      "outputs": [
        {
          "output_type": "stream",
          "name": "stdout",
          "text": [
            "(50901, 5, 3)\n",
            "(139538, 5, 3)\n",
            "(203751, 5, 3)\n"
          ]
        }
      ],
      "source": [
        "#Hyperparameters\n",
        "\n",
        "batch_size = 32\n",
        "epochs = 100\n",
        "T = 10      \n",
        "num_classes = 3\n",
        "dim = 50\n",
        "\n",
        "decoder_input_train = torch.zeros(dec_train.shape[0] - dim + 1, 1, 3)\n",
        "decoder_input_train[:, 0, 0] = 1\n",
        "\n",
        "decoder_input_val = torch.zeros(dec_val.shape[0] - dim + 1, 1, 3)\n",
        "decoder_input_val[:, 0, 0] = 1\n",
        "\n",
        "decoder_input_test = torch.zeros(dec_test.shape[0] - dim + 1, 1, 3)\n",
        "decoder_input_test[:, 0, 0] = 1\n",
        "\n",
        "dataset_val = Dataset(dec_val, y_val, decoder_input_val, num_classes, dim)\n",
        "dataset_test = Dataset(dec_test, y_test, decoder_input_test, num_classes, dim)\n",
        "dataset_train = Dataset(dec_train, y_train, decoder_input_train, num_classes, dim)\n",
        "\n",
        "train_loader = torch.utils.data.DataLoader(dataset=dataset_train, batch_size=batch_size, shuffle=True)\n",
        "val_loader = torch.utils.data.DataLoader(dataset=dataset_val, batch_size=batch_size, shuffle=False)\n",
        "test_loader = torch.utils.data.DataLoader(dataset=dataset_test, batch_size=batch_size, shuffle=False)"
      ]
    },
    {
      "cell_type": "markdown",
      "metadata": {
        "id": "DEIIi2NwjtgC"
      },
      "source": [
        "### **Model Architecture**\n",
        "The Architecture is described in the paper"
      ]
    },
    {
      "cell_type": "code",
      "execution_count": null,
      "metadata": {
        "id": "YCKHBShFcSoz"
      },
      "outputs": [],
      "source": [
        "class DeepLOB_Seq2Seq(nn.Module):\n",
        "  def __init__(self):\n",
        "    super().__init__()\n",
        "    # convolution blocks\n",
        "    # convolution blocks\n",
        "    self.conv1 = nn.Sequential(\n",
        "        nn.Conv2d(in_channels=1, out_channels=32, kernel_size=(1,2), stride=(1,2)),\n",
        "        nn.LeakyReLU(negative_slope=0.01),\n",
        "        nn.Conv2d(in_channels=32, out_channels=32, kernel_size=(4,1), padding='same'),\n",
        "        nn.LeakyReLU(negative_slope=0.01),\n",
        "        nn.Conv2d(in_channels=32, out_channels=32, kernel_size=(4,1), padding='same'),\n",
        "        nn.LeakyReLU(negative_slope=0.01),\n",
        "    )\n",
        "    self.conv2 = nn.Sequential(\n",
        "        nn.Conv2d(in_channels=32, out_channels=32, kernel_size=(1,2), stride=(1,2)),\n",
        "        nn.LeakyReLU(negative_slope=0.01),\n",
        "        nn.Conv2d(in_channels=32, out_channels=32, kernel_size=(4,1), padding='same'),\n",
        "        nn.LeakyReLU(negative_slope=0.01),\n",
        "        nn.Conv2d(in_channels=32, out_channels=32, kernel_size=(4,1), padding='same'),\n",
        "        nn.LeakyReLU(negative_slope=0.01),\n",
        "    )\n",
        "    self.conv3 = nn.Sequential(\n",
        "        nn.Conv2d(in_channels=32, out_channels=32, kernel_size=(1,10)),\n",
        "        nn.LeakyReLU(negative_slope=0.01),\n",
        "        nn.Conv2d(in_channels=32, out_channels=32, kernel_size=(4,1), padding='same'),\n",
        "        nn.LeakyReLU(negative_slope=0.01),\n",
        "        nn.Conv2d(in_channels=32, out_channels=32, kernel_size=(4,1), padding='same'),\n",
        "        nn.LeakyReLU(negative_slope=0.01),\n",
        "    )\n",
        "    \n",
        "    # inception moduels\n",
        "    self.inp1 = nn.Sequential(\n",
        "        nn.Conv2d(in_channels=32, out_channels=64, kernel_size=(1,1), padding='same'),\n",
        "        nn.LeakyReLU(negative_slope=0.01),\n",
        "        nn.Conv2d(in_channels=64, out_channels=64, kernel_size=(3,1), padding='same'),\n",
        "        nn.LeakyReLU(negative_slope=0.01),\n",
        "    )\n",
        "    self.inp2 = nn.Sequential(\n",
        "        nn.Conv2d(in_channels=32, out_channels=64, kernel_size=(1,1), padding='same'),\n",
        "        nn.LeakyReLU(negative_slope=0.01),\n",
        "        nn.Conv2d(in_channels=64, out_channels=64, kernel_size=(5,1), padding='same'),\n",
        "        nn.LeakyReLU(negative_slope=0.01),\n",
        "    )\n",
        "    self.inp3 = nn.Sequential(\n",
        "        nn.MaxPool2d((3, 1), stride=(1, 1), padding=(1, 0)),\n",
        "        nn.Conv2d(in_channels=32, out_channels=64, kernel_size=(1,1), padding='same'),\n",
        "        nn.LeakyReLU(negative_slope=0.01),\n",
        "    )\n",
        "    \n",
        "    # lstm layers\n",
        "    self.lstm = nn.LSTM(input_size=192, hidden_size=64, num_layers=1, batch_first=True)\n",
        "    \n",
        "    self.decoder_lstm = nn.LSTM(input_size=67, hidden_size=64, num_layers=1, batch_first=True)\n",
        "    self.fc1 = nn.Linear(128, 3)\n",
        "\n",
        "  def forward(self, x, decoder_inputs):  \n",
        "\n",
        "    h0 = torch.zeros(1, x.size(0), 64).to(device)\n",
        "    c0 = torch.zeros(1, x.size(0), 64).to(device)\n",
        "\n",
        "    x = self.conv1(x)\n",
        "\n",
        "    x = self.conv2(x)\n",
        "\n",
        "    x = self.conv3(x)\n",
        "\n",
        "    x_inp1 = self.inp1(x)\n",
        "    x_inp2 = self.inp2(x)\n",
        "    x_inp3 = self.inp3(x) \n",
        "\n",
        "    x = torch.cat((x_inp1, x_inp2, x_inp3), dim=1)\n",
        "   \n",
        "    x = x.permute(0, 2, 1, 3)\n",
        "\n",
        "    x = torch.reshape(x, (-1, x.shape[1], x.shape[2]))\n",
        "    \n",
        "    x, (h0, c0) = self.lstm(x, (h0, c0))\n",
        "   \n",
        "    encoder_outputs = x[:, -1, :]  #we take only the last output of the encoder to form the context vector     \n",
        "    \n",
        "    states = (h0, c0)\n",
        "    \n",
        "    encoder_outputs = torch.reshape(encoder_outputs, (encoder_outputs.shape[0], 1, encoder_outputs.shape[1])).to(device)\n",
        "\n",
        "    inputs = torch.concatenate([decoder_inputs, encoder_outputs], axis=2)\n",
        "\n",
        "    all_outputs = torch.zeros(5, x.shape[0], 3).to(device)\n",
        "\n",
        "    #we iterate for every horizon (10, 20, 30, 50, 100)\n",
        "    for i in range(5):\n",
        "\n",
        "      #we pass in input to the decoder the context vector, the last decoder's output and the last decoder's hidden state \n",
        "      h_t, (state_h, state_c) = self.decoder_lstm(inputs, states)\n",
        "      \n",
        "      #creating the input to compute the distribution for the output (3)\n",
        "      last_inputs = torch.concatenate([h_t, encoder_outputs],  axis=2)\n",
        "\n",
        "      #computing the distribution for the output with the context vector (encoder_outputs) and the decoder's output\n",
        "      output = self.fc1(last_inputs)\n",
        "\n",
        "      output = torch.softmax(output, dim=2)\n",
        "\n",
        "      all_outputs[i] = torch.squeeze(output)\n",
        "      inputs = torch.concatenate([output, encoder_outputs], axis=2)\n",
        "      states = [state_h, state_c]\n",
        "    \n",
        "    all_outputs = torch.permute(all_outputs, (1, 2, 0))\n",
        "    return all_outputs"
      ]
    },
    {
      "cell_type": "markdown",
      "metadata": {
        "id": "bejZgDmCkkHi"
      },
      "source": [
        "### **Model Training**"
      ]
    },
    {
      "cell_type": "code",
      "execution_count": null,
      "metadata": {
        "id": "s_u5esKfTT-S"
      },
      "outputs": [],
      "source": [
        "model = DeepLOB_Seq2Seq()\n",
        "model.to(device)\n",
        "lr = 0.001\n",
        "criterion = nn.CrossEntropyLoss()\n",
        "\n",
        "optimizer = torch.optim.Adam(model.parameters(), lr, eps=1e-07)\n",
        "\n",
        "def batch_gd(model, criterion, optimizer, epochs):\n",
        "    \n",
        "    train_losses = np.zeros(epochs)\n",
        "    test_losses = np.zeros(epochs)\n",
        "    best_test_loss = np.inf\n",
        "    best_test_epoch = 0\n",
        "    i = 0\n",
        "    cont = 0\n",
        "    for it in tqdm(range(epochs)):\n",
        "        \n",
        "        model.train()\n",
        "        t0 = datetime.now()\n",
        "        train_loss = []\n",
        "        for inputs, targets, decoder_inputs in train_loader:\n",
        "            # move data to GPU\n",
        "            targets = torch.permute(targets, (0, 2, 1))\n",
        "            inputs, targets = inputs.to(device, dtype=torch.float), targets.to(device)\n",
        "            decoder_inputs = decoder_inputs.to(device)\n",
        "\n",
        "            # zero the parameter gradients\n",
        "            optimizer.zero_grad()\n",
        "\n",
        "            # Forward pass\n",
        "            outputs = model(inputs, decoder_inputs)\n",
        "            loss = criterion(outputs, targets)\n",
        "\n",
        "            # Backward and optimize\n",
        "            loss.backward()\n",
        "            optimizer.step()\n",
        "            train_loss.append(loss.item())\n",
        "\n",
        "        # Get train loss and test loss\n",
        "        train_loss = np.mean(train_loss)\n",
        "    \n",
        "        model.eval()\n",
        "        test_loss = []\n",
        "        for inputs, targets, decoder_inputs in val_loader:\n",
        "            targets = torch.permute(targets, (0, 2, 1))\n",
        "            inputs, targets = inputs.to(device, dtype=torch.float), targets.to(device)    \n",
        "            decoder_inputs = decoder_inputs.to(device)  \n",
        "            outputs = model(inputs, decoder_inputs)\n",
        "            loss = criterion(outputs, targets)\n",
        "            test_loss.append(loss.item())\n",
        "        test_loss = np.mean(test_loss)\n",
        "\n",
        "        # Save losses\n",
        "        train_losses[it] = train_loss\n",
        "        test_losses[it] = test_loss\n",
        "\n",
        "        #We save the best model\n",
        "        if test_loss < best_test_loss:\n",
        "            torch.save(model, '/best_model_seq2seq')\n",
        "            best_test_loss = test_loss\n",
        "            best_test_epoch = it\n",
        "            print('model saved')\n",
        "\n",
        "        dt = datetime.now() - t0\n",
        "        print(f'Epoch {it+1}/{epochs}, Train Loss: {train_loss:.4f}, \\\n",
        "          Validation Loss: {test_loss:.4f}, Duration: {dt}, Best Val Epoch: {best_test_epoch}')\n",
        "        \n",
        "    return train_losses, test_losses"
      ]
    },
    {
      "cell_type": "code",
      "execution_count": null,
      "metadata": {
        "id": "x9vq-ZAzTb6K",
        "colab": {
          "base_uri": "https://localhost:8080/",
          "height": 1000
        },
        "outputId": "ceaacd07-9ba7-49fd-ac9a-9dccfcb49580"
      },
      "outputs": [
        {
          "output_type": "stream",
          "name": "stdout",
          "text": [
            "------- List Hyper Parameters -------\n",
            "epochs   ->   100\n",
            "horizon    ->     10\n",
            "batch size   ->    32\n",
            "Optimizer   ->    Adam (\n",
            "Parameter Group 0\n",
            "    amsgrad: False\n",
            "    betas: (0.9, 0.999)\n",
            "    capturable: False\n",
            "    differentiable: False\n",
            "    eps: 1e-07\n",
            "    foreach: None\n",
            "    fused: False\n",
            "    lr: 0.001\n",
            "    maximize: False\n",
            "    weight_decay: 0\n",
            ")\n"
          ]
        },
        {
          "output_type": "stream",
          "name": "stderr",
          "text": [
            "\r  0%|          | 0/50 [00:00<?, ?it/s]/usr/local/lib/python3.8/dist-packages/torch/nn/modules/conv.py:459: UserWarning: Using padding='same' with even kernel lengths and odd dilation may require a zero-padded copy of the input be created (Triggered internally at ../aten/src/ATen/native/Convolution.cpp:895.)\n",
            "  return F.conv2d(input, weight, bias, self.stride,\n",
            "  2%|▏         | 1/50 [02:11<1:47:40, 131.84s/it]"
          ]
        },
        {
          "output_type": "stream",
          "name": "stdout",
          "text": [
            "model saved\n",
            "Epoch 1/50, Train Loss: 0.9502,           Validation Loss: 0.9171, Duration: 0:02:11.841779, Best Val Epoch: 0\n"
          ]
        },
        {
          "output_type": "stream",
          "name": "stderr",
          "text": [
            "\r  4%|▍         | 2/50 [04:11<1:39:41, 124.62s/it]"
          ]
        },
        {
          "output_type": "stream",
          "name": "stdout",
          "text": [
            "model saved\n",
            "Epoch 2/50, Train Loss: 0.8397,           Validation Loss: 0.8784, Duration: 0:01:59.560732, Best Val Epoch: 1\n"
          ]
        },
        {
          "output_type": "stream",
          "name": "stderr",
          "text": [
            "\r  6%|▌         | 3/50 [06:10<1:35:40, 122.14s/it]"
          ]
        },
        {
          "output_type": "stream",
          "name": "stdout",
          "text": [
            "model saved\n",
            "Epoch 3/50, Train Loss: 0.8185,           Validation Loss: 0.8699, Duration: 0:01:59.176344, Best Val Epoch: 2\n"
          ]
        },
        {
          "output_type": "stream",
          "name": "stderr",
          "text": [
            "\r  8%|▊         | 4/50 [08:10<1:32:52, 121.13s/it]"
          ]
        },
        {
          "output_type": "stream",
          "name": "stdout",
          "text": [
            "model saved\n",
            "Epoch 4/50, Train Loss: 0.8098,           Validation Loss: 0.8696, Duration: 0:01:59.595555, Best Val Epoch: 3\n"
          ]
        },
        {
          "output_type": "stream",
          "name": "stderr",
          "text": [
            "\r 10%|█         | 5/50 [10:08<1:30:12, 120.28s/it]"
          ]
        },
        {
          "output_type": "stream",
          "name": "stdout",
          "text": [
            "Epoch 5/50, Train Loss: 0.8062,           Validation Loss: 0.8737, Duration: 0:01:58.766225, Best Val Epoch: 3\n"
          ]
        },
        {
          "output_type": "stream",
          "name": "stderr",
          "text": [
            "\r 12%|█▏        | 6/50 [12:08<1:27:54, 119.87s/it]"
          ]
        },
        {
          "output_type": "stream",
          "name": "stdout",
          "text": [
            "model saved\n",
            "Epoch 6/50, Train Loss: 0.8039,           Validation Loss: 0.8658, Duration: 0:01:59.070847, Best Val Epoch: 5\n"
          ]
        },
        {
          "output_type": "stream",
          "name": "stderr",
          "text": [
            "\r 14%|█▍        | 7/50 [14:07<1:25:55, 119.89s/it]"
          ]
        },
        {
          "output_type": "stream",
          "name": "stdout",
          "text": [
            "model saved\n",
            "Epoch 7/50, Train Loss: 0.8136,           Validation Loss: 0.8632, Duration: 0:01:59.942842, Best Val Epoch: 6\n"
          ]
        },
        {
          "output_type": "stream",
          "name": "stderr",
          "text": [
            "\r 16%|█▌        | 8/50 [16:05<1:23:28, 119.24s/it]"
          ]
        },
        {
          "output_type": "stream",
          "name": "stdout",
          "text": [
            "Epoch 8/50, Train Loss: 0.8242,           Validation Loss: 0.8792, Duration: 0:01:57.838662, Best Val Epoch: 6\n"
          ]
        },
        {
          "output_type": "stream",
          "name": "stderr",
          "text": [
            "\r 18%|█▊        | 9/50 [18:03<1:21:14, 118.90s/it]"
          ]
        },
        {
          "output_type": "stream",
          "name": "stdout",
          "text": [
            "Epoch 9/50, Train Loss: 0.8439,           Validation Loss: 0.8940, Duration: 0:01:58.153022, Best Val Epoch: 6\n"
          ]
        },
        {
          "output_type": "stream",
          "name": "stderr",
          "text": [
            "\r 20%|██        | 10/50 [20:03<1:19:24, 119.10s/it]"
          ]
        },
        {
          "output_type": "stream",
          "name": "stdout",
          "text": [
            "Epoch 10/50, Train Loss: 0.8459,           Validation Loss: 0.9271, Duration: 0:01:59.553916, Best Val Epoch: 6\n"
          ]
        },
        {
          "output_type": "stream",
          "name": "stderr",
          "text": [
            "\r 22%|██▏       | 11/50 [22:01<1:17:15, 118.86s/it]"
          ]
        },
        {
          "output_type": "stream",
          "name": "stdout",
          "text": [
            "Epoch 11/50, Train Loss: 0.9159,           Validation Loss: 0.9936, Duration: 0:01:58.294539, Best Val Epoch: 6\n"
          ]
        },
        {
          "output_type": "stream",
          "name": "stderr",
          "text": [
            "\r 24%|██▍       | 12/50 [23:59<1:15:07, 118.61s/it]"
          ]
        },
        {
          "output_type": "stream",
          "name": "stdout",
          "text": [
            "Epoch 12/50, Train Loss: 0.9490,           Validation Loss: 0.9617, Duration: 0:01:58.037127, Best Val Epoch: 6\n"
          ]
        },
        {
          "output_type": "stream",
          "name": "stderr",
          "text": [
            "\r 26%|██▌       | 13/50 [25:59<1:13:18, 118.89s/it]"
          ]
        },
        {
          "output_type": "stream",
          "name": "stdout",
          "text": [
            "Epoch 13/50, Train Loss: 0.9918,           Validation Loss: 1.0050, Duration: 0:01:59.532530, Best Val Epoch: 6\n"
          ]
        },
        {
          "output_type": "stream",
          "name": "stderr",
          "text": [
            "\r 28%|██▊       | 14/50 [27:58<1:11:23, 119.00s/it]"
          ]
        },
        {
          "output_type": "stream",
          "name": "stdout",
          "text": [
            "Epoch 14/50, Train Loss: 0.9967,           Validation Loss: 1.0403, Duration: 0:01:59.240718, Best Val Epoch: 6\n"
          ]
        },
        {
          "output_type": "stream",
          "name": "stderr",
          "text": [
            "\r 30%|███       | 15/50 [29:58<1:09:32, 119.23s/it]"
          ]
        },
        {
          "output_type": "stream",
          "name": "stdout",
          "text": [
            "Epoch 15/50, Train Loss: 1.0354,           Validation Loss: 1.0396, Duration: 0:01:59.764571, Best Val Epoch: 6\n"
          ]
        },
        {
          "output_type": "stream",
          "name": "stderr",
          "text": [
            "\r 30%|███       | 15/50 [31:36<1:13:46, 126.46s/it]\n"
          ]
        },
        {
          "output_type": "error",
          "ename": "KeyboardInterrupt",
          "evalue": "ignored",
          "traceback": [
            "\u001b[0;31m---------------------------------------------------------------------------\u001b[0m",
            "\u001b[0;31mKeyboardInterrupt\u001b[0m                         Traceback (most recent call last)",
            "\u001b[0;32m<ipython-input-9-cfdde3a32e49>\u001b[0m in \u001b[0;36m<module>\u001b[0;34m\u001b[0m\n\u001b[1;32m      5\u001b[0m \u001b[0mprint\u001b[0m\u001b[0;34m(\u001b[0m\u001b[0;34m\"Optimizer   ->    \"\u001b[0m \u001b[0;34m+\u001b[0m \u001b[0mstr\u001b[0m\u001b[0;34m(\u001b[0m\u001b[0moptimizer\u001b[0m\u001b[0;34m)\u001b[0m\u001b[0;34m)\u001b[0m\u001b[0;34m\u001b[0m\u001b[0;34m\u001b[0m\u001b[0m\n\u001b[1;32m      6\u001b[0m \u001b[0;34m\u001b[0m\u001b[0m\n\u001b[0;32m----> 7\u001b[0;31m \u001b[0mtrain_losses\u001b[0m\u001b[0;34m,\u001b[0m \u001b[0mval_losses\u001b[0m \u001b[0;34m=\u001b[0m \u001b[0mbatch_gd\u001b[0m\u001b[0;34m(\u001b[0m\u001b[0mmodel\u001b[0m\u001b[0;34m,\u001b[0m \u001b[0mcriterion\u001b[0m\u001b[0;34m,\u001b[0m \u001b[0moptimizer\u001b[0m\u001b[0;34m,\u001b[0m \u001b[0mepochs\u001b[0m\u001b[0;34m=\u001b[0m\u001b[0;36m50\u001b[0m\u001b[0;34m)\u001b[0m\u001b[0;34m\u001b[0m\u001b[0;34m\u001b[0m\u001b[0m\n\u001b[0m\u001b[1;32m      8\u001b[0m \u001b[0;34m\u001b[0m\u001b[0m\n\u001b[1;32m      9\u001b[0m \u001b[0mplt\u001b[0m\u001b[0;34m.\u001b[0m\u001b[0mfigure\u001b[0m\u001b[0;34m(\u001b[0m\u001b[0mfigsize\u001b[0m\u001b[0;34m=\u001b[0m\u001b[0;34m(\u001b[0m\u001b[0;36m15\u001b[0m\u001b[0;34m,\u001b[0m\u001b[0;36m6\u001b[0m\u001b[0;34m)\u001b[0m\u001b[0;34m)\u001b[0m\u001b[0;34m\u001b[0m\u001b[0;34m\u001b[0m\u001b[0m\n",
            "\u001b[0;32m<ipython-input-8-5a2d368ac230>\u001b[0m in \u001b[0;36mbatch_gd\u001b[0;34m(model, criterion, optimizer, epochs)\u001b[0m\n\u001b[1;32m     35\u001b[0m             \u001b[0;31m# Backward and optimize\u001b[0m\u001b[0;34m\u001b[0m\u001b[0;34m\u001b[0m\u001b[0;34m\u001b[0m\u001b[0m\n\u001b[1;32m     36\u001b[0m             \u001b[0;31m#loss.requires_grad = True\u001b[0m\u001b[0;34m\u001b[0m\u001b[0;34m\u001b[0m\u001b[0;34m\u001b[0m\u001b[0m\n\u001b[0;32m---> 37\u001b[0;31m             \u001b[0mloss\u001b[0m\u001b[0;34m.\u001b[0m\u001b[0mbackward\u001b[0m\u001b[0;34m(\u001b[0m\u001b[0;34m)\u001b[0m\u001b[0;34m\u001b[0m\u001b[0;34m\u001b[0m\u001b[0m\n\u001b[0m\u001b[1;32m     38\u001b[0m             \u001b[0moptimizer\u001b[0m\u001b[0;34m.\u001b[0m\u001b[0mstep\u001b[0m\u001b[0;34m(\u001b[0m\u001b[0;34m)\u001b[0m\u001b[0;34m\u001b[0m\u001b[0;34m\u001b[0m\u001b[0m\n\u001b[1;32m     39\u001b[0m             \u001b[0mtrain_loss\u001b[0m\u001b[0;34m.\u001b[0m\u001b[0mappend\u001b[0m\u001b[0;34m(\u001b[0m\u001b[0mloss\u001b[0m\u001b[0;34m.\u001b[0m\u001b[0mitem\u001b[0m\u001b[0;34m(\u001b[0m\u001b[0;34m)\u001b[0m\u001b[0;34m)\u001b[0m\u001b[0;34m\u001b[0m\u001b[0;34m\u001b[0m\u001b[0m\n",
            "\u001b[0;32m/usr/local/lib/python3.8/dist-packages/torch/_tensor.py\u001b[0m in \u001b[0;36mbackward\u001b[0;34m(self, gradient, retain_graph, create_graph, inputs)\u001b[0m\n\u001b[1;32m    485\u001b[0m                 \u001b[0minputs\u001b[0m\u001b[0;34m=\u001b[0m\u001b[0minputs\u001b[0m\u001b[0;34m,\u001b[0m\u001b[0;34m\u001b[0m\u001b[0;34m\u001b[0m\u001b[0m\n\u001b[1;32m    486\u001b[0m             )\n\u001b[0;32m--> 487\u001b[0;31m         torch.autograd.backward(\n\u001b[0m\u001b[1;32m    488\u001b[0m             \u001b[0mself\u001b[0m\u001b[0;34m,\u001b[0m \u001b[0mgradient\u001b[0m\u001b[0;34m,\u001b[0m \u001b[0mretain_graph\u001b[0m\u001b[0;34m,\u001b[0m \u001b[0mcreate_graph\u001b[0m\u001b[0;34m,\u001b[0m \u001b[0minputs\u001b[0m\u001b[0;34m=\u001b[0m\u001b[0minputs\u001b[0m\u001b[0;34m\u001b[0m\u001b[0;34m\u001b[0m\u001b[0m\n\u001b[1;32m    489\u001b[0m         )\n",
            "\u001b[0;32m/usr/local/lib/python3.8/dist-packages/torch/autograd/__init__.py\u001b[0m in \u001b[0;36mbackward\u001b[0;34m(tensors, grad_tensors, retain_graph, create_graph, grad_variables, inputs)\u001b[0m\n\u001b[1;32m    195\u001b[0m     \u001b[0;31m# some Python versions print out the first line of a multi-line function\u001b[0m\u001b[0;34m\u001b[0m\u001b[0;34m\u001b[0m\u001b[0;34m\u001b[0m\u001b[0m\n\u001b[1;32m    196\u001b[0m     \u001b[0;31m# calls in the traceback and some print out the last line\u001b[0m\u001b[0;34m\u001b[0m\u001b[0;34m\u001b[0m\u001b[0;34m\u001b[0m\u001b[0m\n\u001b[0;32m--> 197\u001b[0;31m     Variable._execution_engine.run_backward(  # Calls into the C++ engine to run the backward pass\n\u001b[0m\u001b[1;32m    198\u001b[0m         \u001b[0mtensors\u001b[0m\u001b[0;34m,\u001b[0m \u001b[0mgrad_tensors_\u001b[0m\u001b[0;34m,\u001b[0m \u001b[0mretain_graph\u001b[0m\u001b[0;34m,\u001b[0m \u001b[0mcreate_graph\u001b[0m\u001b[0;34m,\u001b[0m \u001b[0minputs\u001b[0m\u001b[0;34m,\u001b[0m\u001b[0;34m\u001b[0m\u001b[0;34m\u001b[0m\u001b[0m\n\u001b[1;32m    199\u001b[0m         allow_unreachable=True, accumulate_grad=True)  # Calls into the C++ engine to run the backward pass\n",
            "\u001b[0;31mKeyboardInterrupt\u001b[0m: "
          ]
        }
      ],
      "source": [
        "print(\"------- List Hyper Parameters -------\")\n",
        "print(\"epochs   ->   \" + str(epochs))\n",
        "print(\"batch size   ->    \" + str(batch_size))\n",
        "print(\"Optimizer   ->    \" + str(optimizer))\n",
        "\n",
        "train_losses, val_losses = batch_gd(model, criterion, optimizer, epochs=50)\n",
        "\n",
        "plt.figure(figsize=(15,6))\n",
        "plt.plot(train_losses, label='train loss')\n",
        "plt.plot(val_losses, label='validation loss')\n",
        "plt.legend()"
      ]
    },
    {
      "cell_type": "markdown",
      "metadata": {
        "id": "F7CF2CwUkn4G"
      },
      "source": [
        "### **Model Testing**"
      ]
    },
    {
      "cell_type": "code",
      "execution_count": null,
      "metadata": {
        "id": "TFg5d6CzTgWS"
      },
      "outputs": [],
      "source": [
        "model = torch.load('/best_model_seq2seq')\n",
        "\n",
        "n_correct = 0.\n",
        "n_total = 0.\n",
        "all_targets = [[], [], [], [], []]\n",
        "all_predictions = [[], [], [], [], []]\n",
        "cont = 0\n",
        "for inputs, targets, decoder_inputs in test_loader:\n",
        "    # Move to GPU\n",
        "    targets = torch.permute(targets, (0, 2, 1))\n",
        "    inputs, targets = inputs.to(device, dtype=torch.float), targets.to(device)    \n",
        "    decoder_inputs = decoder_inputs.to(device)\n",
        "    cont += 1\n",
        "    \n",
        "    # Forward pass\n",
        "    outputs = model(inputs, decoder_inputs)\n",
        "\n",
        "    #Get prediction\n",
        "    _, predictions = torch.max(outputs, 1)\n",
        "    _, targets = torch.max(targets, 1)\n",
        "    for i in range(5):\n",
        "      prediction = predictions[:, i]\n",
        "      target = targets[:, i]\n",
        "\n",
        "      if (cont == 1):\n",
        "        all_targets[i] = target.cpu().numpy()\n",
        "        all_predictions[i] = prediction.cpu().numpy()\n",
        "        \n",
        "      else:\n",
        "        all_targets[i] = np.concatenate((all_targets[i], target.cpu().numpy()))\n",
        "        all_predictions[i] = np.concatenate((all_predictions[i], prediction.cpu().numpy()))"
      ]
    },
    {
      "cell_type": "code",
      "execution_count": null,
      "metadata": {
        "id": "0oOu5lwf6zw0",
        "colab": {
          "base_uri": "https://localhost:8080/",
          "height": 1000
        },
        "outputId": "ffc52d35-2592-46ce-9ac8-7d6401b975bd"
      },
      "outputs": [
        {
          "output_type": "stream",
          "name": "stdout",
          "text": [
            "              precision    recall  f1-score   support\n",
            "\n",
            "           0     0.7255    0.5151    0.6025     21147\n",
            "           1     0.8457    0.9547    0.8969     98614\n",
            "           2     0.7477    0.4988    0.5984     19767\n",
            "\n",
            "    accuracy                         0.8235    139528\n",
            "   macro avg     0.7730    0.6562    0.6993    139528\n",
            "weighted avg     0.8136    0.8235    0.8100    139528\n",
            "\n"
          ]
        },
        {
          "output_type": "display_data",
          "data": {
            "text/plain": [
              "<Figure size 432x288 with 2 Axes>"
            ],
            "image/png": "[encoded data removed]"
          },
          "metadata": {
            "needs_background": "light"
          }
        },
        {
          "output_type": "stream",
          "name": "stdout",
          "text": [
            "              precision    recall  f1-score   support\n",
            "\n",
            "           0     0.6529    0.4586    0.5388     27448\n",
            "           1     0.7698    0.9217    0.8389     86595\n",
            "           2     0.6754    0.4390    0.5321     25485\n",
            "\n",
            "    accuracy                         0.7424    139528\n",
            "   macro avg     0.6994    0.6064    0.6366    139528\n",
            "weighted avg     0.7295    0.7424    0.7238    139528\n",
            "\n"
          ]
        },
        {
          "output_type": "display_data",
          "data": {
            "text/plain": [
              "<Figure size 432x288 with 2 Axes>"
            ],
            "image/png": "[encoded data removed]"
          },
          "metadata": {
            "needs_background": "light"
          }
        },
        {
          "output_type": "stream",
          "name": "stdout",
          "text": [
            "              precision    recall  f1-score   support\n",
            "\n",
            "           0     0.6947    0.6008    0.6443     31915\n",
            "           1     0.7956    0.8949    0.8423     78297\n",
            "           2     0.7046    0.5733    0.6322     29316\n",
            "\n",
            "    accuracy                         0.7601    139528\n",
            "   macro avg     0.7316    0.6897    0.7063    139528\n",
            "weighted avg     0.7534    0.7601    0.7529    139528\n",
            "\n"
          ]
        },
        {
          "output_type": "display_data",
          "data": {
            "text/plain": [
              "<Figure size 432x288 with 2 Axes>"
            ],
            "image/png": "[encoded data removed]"
          },
          "metadata": {
            "needs_background": "light"
          }
        },
        {
          "output_type": "stream",
          "name": "stdout",
          "text": [
            "              precision    recall  f1-score   support\n",
            "\n",
            "           0     0.7327    0.6769    0.7037     38439\n",
            "           1     0.8207    0.8669    0.8431     65990\n",
            "           2     0.6990    0.6833    0.6911     35099\n",
            "\n",
            "    accuracy                         0.7684    139528\n",
            "   macro avg     0.7508    0.7424    0.7460    139528\n",
            "weighted avg     0.7658    0.7684    0.7665    139528\n",
            "\n"
          ]
        },
        {
          "output_type": "display_data",
          "data": {
            "text/plain": [
              "<Figure size 432x288 with 2 Axes>"
            ],
            "image/png": "[encoded data removed]"
          },
          "metadata": {
            "needs_background": "light"
          }
        },
        {
          "output_type": "stream",
          "name": "stdout",
          "text": [
            "              precision    recall  f1-score   support\n",
            "\n",
            "           0     0.7442    0.7364    0.7403     47952\n",
            "           1     0.8699    0.7910    0.8286     48040\n",
            "           2     0.6871    0.7638    0.7234     43536\n",
            "\n",
            "    accuracy                         0.7638    139528\n",
            "   macro avg     0.7671    0.7637    0.7641    139528\n",
            "weighted avg     0.7697    0.7638    0.7654    139528\n",
            "\n"
          ]
        },
        {
          "output_type": "display_data",
          "data": {
            "text/plain": [
              "<Figure size 432x288 with 2 Axes>"
            ],
            "image/png": "[encoded data removed]"
          },
          "metadata": {
            "needs_background": "light"
          }
        }
      ],
      "source": [
        "from sklearn.metrics import accuracy_score, classification_report, confusion_matrix, ConfusionMatrixDisplay\n",
        "\n",
        "for i in range(5):\n",
        "  print(classification_report(all_targets[i], all_predictions[i], digits=4))\n",
        "  c = confusion_matrix(all_targets[i], all_predictions[i], normalize=\"true\")\n",
        "  disp = ConfusionMatrixDisplay(c)\n",
        "  disp.plot()\n",
        "  plt.show()"
      ]
    }
  ],
  "metadata": {
    "accelerator": "GPU",
    "colab": {
      "provenance": []
    },
    "gpuClass": "premium",
    "kernelspec": {
      "display_name": "Python 3",
      "name": "python3"
    },
    "language_info": {
      "name": "python"
    }
  },
  "nbformat": 4,
  "nbformat_minor": 0
}
